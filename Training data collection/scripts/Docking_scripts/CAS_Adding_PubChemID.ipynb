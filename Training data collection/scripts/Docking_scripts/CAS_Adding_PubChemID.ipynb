{
  "cells": [
    {
      "cell_type": "markdown",
      "metadata": {
        "id": "view-in-github",
        "colab_type": "text"
      },
      "source": [
        "<a href=\"https://colab.research.google.com/github/aksingh135/Ligand-screening/blob/main/Training%20data%20collection/scripts/Docking_scripts/CAS_Adding_PubChemID.ipynb\" target=\"_parent\"><img src=\"https://colab.research.google.com/assets/colab-badge.svg\" alt=\"Open In Colab\"/></a>"
      ]
    },
    {
      "cell_type": "code",
      "execution_count": null,
      "metadata": {
        "colab": {
          "base_uri": "https://localhost:8080/"
        },
        "id": "s4CGitr6ULpP",
        "outputId": "9a86de15-6285-4f96-9bec-7a0f01b0f707"
      },
      "outputs": [
        {
          "output_type": "stream",
          "name": "stdout",
          "text": [
            "Collecting pubchempy\n",
            "  Downloading PubChemPy-1.0.4.tar.gz (29 kB)\n",
            "  Preparing metadata (setup.py) ... \u001b[?25l\u001b[?25hdone\n",
            "Building wheels for collected packages: pubchempy\n",
            "  Building wheel for pubchempy (setup.py) ... \u001b[?25l\u001b[?25hdone\n",
            "  Created wheel for pubchempy: filename=PubChemPy-1.0.4-py3-none-any.whl size=13819 sha256=9a8095c5fa53650a1f69becae932079775cf207b71af0f9b165379fbdfbde97a\n",
            "  Stored in directory: /root/.cache/pip/wheels/90/7c/45/18a0671e3c3316966ef7ed9ad2b3f3300a7e41d3421a44e799\n",
            "Successfully built pubchempy\n",
            "Installing collected packages: pubchempy\n",
            "Successfully installed pubchempy-1.0.4\n"
          ]
        }
      ],
      "source": [
        "!pip install pubchempy"
      ]
    },
    {
      "cell_type": "code",
      "execution_count": null,
      "metadata": {
        "id": "pf98cWOiVa22"
      },
      "outputs": [],
      "source": [
        "import time\n",
        "import pandas as pd\n",
        "import pubchempy as pcp\n",
        "\n",
        "df = pd.read_excel('/content/data.xlsx', sheet_name=1)\n",
        "\n",
        "#Getting PubChem ID using CAS numbers\n",
        "cids = []\n",
        "for cas_number in df['CAS Number'].astype(str):\n",
        "    while True:\n",
        "        try:\n",
        "            cids_for_cas = pcp.get_cids(cas_number, identifier_type='cas')\n",
        "            if cids_for_cas:\n",
        "                cids.append(cids_for_cas[0]) #Append first available CID for respective CAS\n",
        "            else:\n",
        "                cids.append('')\n",
        "            break  #Break out of the retry loop if successful\n",
        "        except pcp.PubChemHTTPError as err:\n",
        "            print(f\"PubChem HTTP error: {err}\")\n",
        "            print(\"Retrying after 5 seconds...\")\n",
        "            time.sleep(5)\n",
        "\n",
        "#Adding column for PubChem CIDs\n",
        "df['PubChem CID'] = cids\n",
        "\n",
        "#Saving to new file\n",
        "df.to_excel('/content/data_with_PubChemID.xlsx', index=False)\n"
      ]
    }
  ],
  "metadata": {
    "colab": {
      "provenance": [],
      "gpuType": "T4",
      "include_colab_link": true
    },
    "kernelspec": {
      "display_name": "Python 3",
      "name": "python3"
    },
    "language_info": {
      "name": "python"
    },
    "accelerator": "GPU"
  },
  "nbformat": 4,
  "nbformat_minor": 0
}